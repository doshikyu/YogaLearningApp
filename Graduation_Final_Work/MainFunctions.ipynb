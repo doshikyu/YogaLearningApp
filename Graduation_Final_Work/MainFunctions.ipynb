{
 "cells": [
  {
   "cell_type": "code",
   "execution_count": 1,
   "id": "1af1714f",
   "metadata": {},
   "outputs": [],
   "source": [
    "import cv2\n",
    "import mediapipe as mp\n",
    "import os\n",
    "import sys\n",
    "import customtkinter\n",
    "import tkinter as tk\n",
    "from tkinter import *\n",
    "import tkinter.ttk as ttk\n",
    "from queue import Queue\n",
    "import threading\n",
    "import numpy as np\n",
    "import pandas as pd\n",
    "import csv\n",
    "from PIL import Image, ImageTk"
   ]
  },
  {
   "cell_type": "code",
   "execution_count": 2,
   "id": "51a12452",
   "metadata": {},
   "outputs": [],
   "source": [
    "mp_drawing = mp.solutions.drawing_utils\n",
    "mp_drawing_styles = mp.solutions.drawing_styles\n",
    "mp_holistic = mp.solutions.holistic\n",
    "CSVEXTENTION = \"_POINTMARKS.csv\"\n",
    "ROOTPATH  =\"./DATABASE\"\n",
    "DATABASEFILE = \"POSES_INFORMATION.xlsx\"\n",
    "IMAGEEXTENTION = ('.jpg', '.png', 'jpeg','JPG','.webp')\n",
    "TXTEXTENTION = \"_DESCRIPTION.txt\""
   ]
  },
  {
   "cell_type": "code",
   "execution_count": 3,
   "id": "e97e3d7f",
   "metadata": {},
   "outputs": [],
   "source": [
    "def DicttoCSV(inpDict,csvFileName):\n",
    "    with open(csvFileName, \"w\") as outfile:\n",
    "        writerfile = csv.writer(outfile)\n",
    "        writerfile.writerow(inpDict.keys())\n",
    "        writerfile.writerows(zip(*inpDict.values()))"
   ]
  },
  {
   "cell_type": "code",
   "execution_count": 4,
   "id": "7957ba14",
   "metadata": {},
   "outputs": [],
   "source": [
    "def CSVtoDict(fileName):\n",
    "    outputDict = {}\n",
    "    df = pd.read_csv(fileName)\n",
    "    for v in df.columns:\n",
    "        outputDict[int(v)] = None\n",
    "        a=[]\n",
    "        for i in df[v]:\n",
    "            a.append(int(i))\n",
    "        outputDict[int(v)] = a\n",
    "    return outputDict"
   ]
  },
  {
   "cell_type": "code",
   "execution_count": 5,
   "id": "f22041a4",
   "metadata": {},
   "outputs": [],
   "source": [
    "def loadDescription(fileName):\n",
    "    with open(fileName) as f:\n",
    "        lines = f.readlines()\n",
    "    return lines"
   ]
  },
  {
   "cell_type": "code",
   "execution_count": 6,
   "id": "db07bc68",
   "metadata": {},
   "outputs": [],
   "source": [
    "def draw_landmarks(image, results):\n",
    "    mp_drawing.draw_landmarks(image, results.pose_landmarks, mp_holistic.POSE_CONNECTIONS)"
   ]
  },
  {
   "cell_type": "code",
   "execution_count": 7,
   "id": "c0b0d3c8",
   "metadata": {},
   "outputs": [],
   "source": [
    "def ExtractPointsandSaveinCSV(IMAGE_FILES, width = 800, height = 600):\n",
    "    BG_COLOR = (192, 192, 192)\n",
    "    TestList = {}\n",
    "    for keys, b in IMAGE_FILES.items():\n",
    "        with mp_holistic.Holistic(\n",
    "            static_image_mode=True,\n",
    "            model_complexity=2,\n",
    "            enable_segmentation=True,\n",
    "            refine_face_landmarks=True) as holistic:\n",
    "            image = cv2.imread(b)\n",
    "            down_points = (width, height)\n",
    "            image = cv2.resize(image, down_points, interpolation= cv2.INTER_LINEAR)\n",
    "            image_height, image_width, _ = image.shape\n",
    "            results = holistic.process(cv2.cvtColor(image, cv2.COLOR_BGR2RGB))\n",
    "            \n",
    "            if results.pose_landmarks:\n",
    "                condition = np.stack((results.segmentation_mask,) * 3, axis=-1) > 0.1\n",
    "                bg_image = np.zeros(image.shape, dtype=np.uint8)\n",
    "                bg_image[:] = BG_COLOR\n",
    "                annotated_image = image.copy()\n",
    "                annotated_image = np.where(condition, annotated_image, bg_image)\n",
    "                \n",
    "                a = {11 : 11, 12 : 12,\n",
    "                     13 : 13, 14 : 14,\n",
    "                     15 : 15, 16 : 16,\n",
    "                     23 : 23, 24 : 24,\n",
    "                     25 : 25, 26 : 26,\n",
    "                     27 : 27, 28 : 28}\n",
    "                for i in (a.keys()):\n",
    "                    key = a[i]\n",
    "                    cordinates = []\n",
    "                    X = int(np.round(results.pose_landmarks.landmark[key].x * width))\n",
    "                    Y = int(np.round(results.pose_landmarks.landmark[key].y * height))\n",
    "                    cordinates.append(X)\n",
    "                    cordinates.append(Y)\n",
    "                    a[i] = cordinates\n",
    "                \n",
    "                oldKeyName = b\n",
    "                num = oldKeyName.rfind('.')\n",
    "                newKeyName = oldKeyName[0:num]\n",
    "                print(newKeyName)\n",
    "                DicttoCSV(a, (newKeyName+CSVEXTENTION))\n",
    "                \n",
    "                \n",
    "               # print(newKeyName,\" \",a,\"\\n\")\n",
    "                \n",
    "#                 TestList[b]=a\n",
    "            \n",
    "#         oldKeyName = b\n",
    "#         num = oldKeyName.rfind('.')\n",
    "#         newKeyName = oldKeyName[0:num]\n",
    "#         TestList[newKeyName] = TestList.pop(oldKeyName)\n",
    "#     print(TestList)"
   ]
  },
  {
   "cell_type": "code",
   "execution_count": 8,
   "id": "0774fd2b",
   "metadata": {},
   "outputs": [],
   "source": [
    "def restore_landmarks(pose_map,image,color,thickness,color_circle = (255,0,0), radious = 10, text = ' '):\n",
    "    \n",
    "    for indx, pose in enumerate(pose_map.keys()):\n",
    "        cv2.circle(image, pose_map[pose], radious, color_circle, -thickness)\n",
    "        if pose == 11:\n",
    "            cv2.line(image, pose_map[pose], pose_map[13], color, thickness)\n",
    "            cv2.line(image, pose_map[pose], pose_map[23], color, thickness)\n",
    "            cv2.line(image, pose_map[pose], pose_map[12], color, thickness)\n",
    "        elif pose == 12:\n",
    "            cv2.line(image, pose_map[pose], pose_map[14], color, thickness)\n",
    "            cv2.line(image, pose_map[pose], pose_map[24], color, thickness)\n",
    "        elif pose == 13:\n",
    "            cv2.line(image, pose_map[pose], pose_map[15], color, thickness)\n",
    "        elif pose == 14:\n",
    "            cv2.line(image, pose_map[pose], pose_map[16], color, thickness)\n",
    "        elif pose == 23:\n",
    "            cv2.line(image, pose_map[pose], pose_map[25], color, thickness)\n",
    "            cv2.line(image, pose_map[pose], pose_map[24], color, thickness)\n",
    "        elif pose == 24:\n",
    "            cv2.line(image, pose_map[pose], pose_map[26], color, thickness)\n",
    "        elif pose == 25:\n",
    "            cv2.line(image, pose_map[pose], pose_map[27], color, thickness)\n",
    "        elif pose == 26:\n",
    "            cv2.line(image, pose_map[pose], pose_map[28], color, thickness)\n",
    "        position = (10,50)\n",
    "        cv2.putText(image,text,position, cv2.FONT_HERSHEY_SIMPLEX, 2,(209, 80, 0, 255),2)"
   ]
  },
  {
   "cell_type": "code",
   "execution_count": 9,
   "id": "593dc845",
   "metadata": {},
   "outputs": [],
   "source": [
    "def calculate_accurancy(standart_pose, user_pose):\n",
    "    accurancy = {}\n",
    "    standart_list = list(standart_pose.items())\n",
    "    user_list = list(user_pose.items())\n",
    "    for i in range(len(standart_pose)):\n",
    "        point=standart_list[i][0]\n",
    "        standart = standart_list[i][1]\n",
    "        value = user_list[i][1]\n",
    "        absolute = [abs(standart[0]-value[0]),abs(standart[1]-value[1])]\n",
    "        try:\n",
    "            a = absolute[0]/value[0]\n",
    "            b = absolute[1]/value[1]\n",
    "        except ZeroDivisionError:\n",
    "            a = value[0]\n",
    "            b = value[1]\n",
    "        relative = [round((a*100),1),round((b*100),1)]\n",
    "        accurancy[point]=relative\n",
    "    return accurancy"
   ]
  },
  {
   "cell_type": "code",
   "execution_count": 10,
   "id": "495d4b1a",
   "metadata": {},
   "outputs": [],
   "source": [
    "def save_landmarks(results, width, height):\n",
    "    a= results.pose_landmarks\n",
    "    landmark_map = {11 : 11, 12 : 12,\n",
    "                    13 : 13, 14 : 14,\n",
    "                    15 : 15, 16 : 16,\n",
    "                    23 : 23, 24 : 24,\n",
    "                    25 : 25, 26 : 26,\n",
    "                    27 : 27, 28 : 28}\n",
    "    \n",
    "\n",
    "    for i in (landmark_map.keys()):\n",
    "        key = landmark_map[i]\n",
    "        cordinates = []\n",
    "        X = int(np.round(results.pose_landmarks.landmark[key].x * width))\n",
    "        Y = int(np.round(results.pose_landmarks.landmark[key].y * height))\n",
    "        cordinates.append(X)\n",
    "        cordinates.append(Y)\n",
    "        landmark_map[i] = cordinates\n",
    "    return landmark_map"
   ]
  },
  {
   "cell_type": "code",
   "execution_count": 11,
   "id": "25eb3379",
   "metadata": {},
   "outputs": [],
   "source": [
    "def initDataBase():\n",
    "    DATA_STRUCT = {}\n",
    "    dataframe = pd.read_excel((os.path.join(ROOTPATH,DATABASEFILE)))\n",
    "    a = dataframe.columns.tolist()\n",
    "    for i in a:\n",
    "        DATA_STRUCT[i]=dataframe[i].tolist()\n",
    "    return DATA_STRUCT"
   ]
  },
  {
   "cell_type": "code",
   "execution_count": 12,
   "id": "1415031b",
   "metadata": {},
   "outputs": [],
   "source": [
    "def filePathExtract(lvl, infoDict, fileFormat):\n",
    "    ext = None\n",
    "    outputDict = {}\n",
    "    if fileFormat == 'txt':\n",
    "        ext = TXTEXTENTION\n",
    "    elif fileFormat == 'img':\n",
    "        ext = IMAGEEXTENTION\n",
    "    elif fileFormat == 'csv':\n",
    "        ext = CSVEXTENTION\n",
    "        \n",
    "    for i in infoDict:\n",
    "        filePath=os.path.join(ROOTPATH, lvl, i)\n",
    "        files = os.listdir(filePath)\n",
    "        for file in files:\n",
    "            if file.endswith(ext):\n",
    "                outputDict[i] = os.path.join(filePath, file)\n",
    "    return outputDict\n",
    "\n"
   ]
  },
  {
   "cell_type": "code",
   "execution_count": 13,
   "id": "7a0e5ae9",
   "metadata": {},
   "outputs": [],
   "source": [
    "# lvl = \"BEGINER\"\n",
    "# a = initDataBase(lvl)\n",
    "# showImg = filePathExtract(lvl, POSES,'img')\n",
    "# showTxt = filePathExtract(lvl, POSES,'txt')\n",
    "# showCsv = filePathExtract(lvl, POSES,'csv')"
   ]
  },
  {
   "cell_type": "code",
   "execution_count": null,
   "id": "465df197",
   "metadata": {},
   "outputs": [],
   "source": [
    "lvl  = initDataBase()\n",
    "lvlB = lvl['BEGINNER']\n",
    "lvlB\n",
    "showTxt = filePathExtract('BEGINNER', lvlB,'txt')\n",
    "a = loadDescription(showTxt['CHILD'])\n",
    "a"
   ]
  },
  {
   "cell_type": "code",
   "execution_count": null,
   "id": "7fe5790f",
   "metadata": {},
   "outputs": [],
   "source": []
  },
  {
   "cell_type": "code",
   "execution_count": null,
   "id": "04ea4d2d",
   "metadata": {},
   "outputs": [],
   "source": []
  },
  {
   "cell_type": "code",
   "execution_count": null,
   "id": "c2e439b7",
   "metadata": {},
   "outputs": [],
   "source": []
  },
  {
   "cell_type": "code",
   "execution_count": null,
   "id": "4020c455",
   "metadata": {},
   "outputs": [],
   "source": []
  },
  {
   "cell_type": "code",
   "execution_count": null,
   "id": "16762612",
   "metadata": {},
   "outputs": [],
   "source": [
    "\n"
   ]
  },
  {
   "cell_type": "code",
   "execution_count": null,
   "id": "be1f761f",
   "metadata": {},
   "outputs": [],
   "source": []
  },
  {
   "cell_type": "code",
   "execution_count": null,
   "id": "23ed0daa",
   "metadata": {},
   "outputs": [],
   "source": []
  },
  {
   "cell_type": "code",
   "execution_count": null,
   "id": "2c632230",
   "metadata": {},
   "outputs": [],
   "source": []
  },
  {
   "cell_type": "code",
   "execution_count": null,
   "id": "d2d0089f",
   "metadata": {},
   "outputs": [],
   "source": []
  },
  {
   "cell_type": "code",
   "execution_count": null,
   "id": "22de8e58",
   "metadata": {},
   "outputs": [],
   "source": []
  }
 ],
 "metadata": {
  "kernelspec": {
   "display_name": "Python 3 (ipykernel)",
   "language": "python",
   "name": "python3"
  },
  "language_info": {
   "codemirror_mode": {
    "name": "ipython",
    "version": 3
   },
   "file_extension": ".py",
   "mimetype": "text/x-python",
   "name": "python",
   "nbconvert_exporter": "python",
   "pygments_lexer": "ipython3",
   "version": "3.8.10"
  }
 },
 "nbformat": 4,
 "nbformat_minor": 5
}
