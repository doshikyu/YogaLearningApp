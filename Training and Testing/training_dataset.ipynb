{
 "cells": [
  {
   "cell_type": "code",
   "execution_count": 1,
   "id": "73b5ded3",
   "metadata": {},
   "outputs": [],
   "source": [
    "from tensorflow.keras.preprocessing.image import ImageDataGenerator\n",
    "from tensorflow.keras.preprocessing import image\n",
    "import matplotlib.pyplot as plt\n",
    "import tensorflow as tf\n",
    "import numpy as np\n",
    "import cv2\n",
    "import os"
   ]
  },
  {
   "cell_type": "code",
   "execution_count": 2,
   "id": "780bb490",
   "metadata": {},
   "outputs": [],
   "source": [
    "train_path='C:/Users/dasha/Desktop/Study/Project/ImagesDataset/Advanced/training'\n",
    "validation_path='C:/Users/dasha/Desktop/Study/Project/ImagesDataset/Advanced/validation'\n",
    "test_path ='C:/Users/dasha/Desktop/Study/Project/ImagesDataset/Advanced/testing'"
   ]
  },
  {
   "cell_type": "code",
   "execution_count": 3,
   "id": "ff920933",
   "metadata": {},
   "outputs": [],
   "source": [
    "train = ImageDataGenerator(rescale=1/255)\n",
    "validation = ImageDataGenerator(rescale=1/255)"
   ]
  },
  {
   "cell_type": "code",
   "execution_count": 4,
   "id": "7526b29d",
   "metadata": {},
   "outputs": [
    {
     "name": "stdout",
     "output_type": "stream",
     "text": [
      "Found 150 images belonging to 3 classes.\n",
      "Found 0 images belonging to 3 classes.\n"
     ]
    }
   ],
   "source": [
    "train_dataset=train.flow_from_directory(train_path,\n",
    "                                        target_size=(300,300), \n",
    "                                        batch_size=(5), \n",
    "                                        class_mode='categorical')\n",
    "\n",
    "validation_dataset=train.flow_from_directory(validation_path,\n",
    "                                             target_size=(300,300),\n",
    "                                             batch_size=(5),\n",
    "                                             class_mode='categorical')"
   ]
  },
  {
   "cell_type": "code",
   "execution_count": 5,
   "id": "55c75018",
   "metadata": {},
   "outputs": [
    {
     "data": {
      "text/plain": [
       "{'tree': 0, 'triangle': 1, 'warrior': 2}"
      ]
     },
     "execution_count": 5,
     "metadata": {},
     "output_type": "execute_result"
    }
   ],
   "source": [
    "train_dataset.class_indices"
   ]
  },
  {
   "cell_type": "code",
   "execution_count": 6,
   "id": "a68b6e69",
   "metadata": {},
   "outputs": [
    {
     "data": {
      "text/plain": [
       "array([0, 0, 0, 0, 0, 0, 0, 0, 0, 0, 0, 0, 0, 0, 0, 0, 0, 0, 0, 0, 0, 0,\n",
       "       0, 0, 0, 0, 0, 0, 0, 0, 0, 0, 0, 0, 0, 0, 0, 0, 0, 0, 0, 0, 0, 0,\n",
       "       0, 0, 0, 0, 0, 0, 1, 1, 1, 1, 1, 1, 1, 1, 1, 1, 1, 1, 1, 1, 1, 1,\n",
       "       1, 1, 1, 1, 1, 1, 1, 1, 1, 1, 1, 1, 1, 1, 1, 1, 1, 1, 1, 1, 1, 1,\n",
       "       1, 1, 1, 1, 1, 1, 1, 1, 1, 1, 1, 1, 2, 2, 2, 2, 2, 2, 2, 2, 2, 2,\n",
       "       2, 2, 2, 2, 2, 2, 2, 2, 2, 2, 2, 2, 2, 2, 2, 2, 2, 2, 2, 2, 2, 2,\n",
       "       2, 2, 2, 2, 2, 2, 2, 2, 2, 2, 2, 2, 2, 2, 2, 2, 2, 2])"
      ]
     },
     "execution_count": 6,
     "metadata": {},
     "output_type": "execute_result"
    }
   ],
   "source": [
    "train_dataset.classes"
   ]
  },
  {
   "cell_type": "code",
   "execution_count": 7,
   "id": "7ed19cc5",
   "metadata": {},
   "outputs": [],
   "source": [
    "model=tf.keras.models.Sequential([tf.keras.layers.Conv2D(16,(3,3), activation='relu', input_shape=(300,300,3)),\n",
    "                                 tf.keras.layers.MaxPool2D(2,2),\n",
    "                                  #\n",
    "                                  tf.keras.layers.Conv2D(32,(3,3), activation='relu'),\n",
    "                                 tf.keras.layers.MaxPool2D(2,2),\n",
    "                                  #\n",
    "                                  tf.keras.layers.Conv2D(64,(3,3), activation='relu'),\n",
    "                                 tf.keras.layers.MaxPool2D(2,2),\n",
    "                                  ##\n",
    "                                   tf.keras.layers.Flatten(),\n",
    "                                  ##\n",
    "                                   tf.keras.layers.Dense(512, activation='relu'),\n",
    "                                  ##\n",
    "                                   tf.keras.layers.Dense(3, activation='sigmoid')])"
   ]
  },
  {
   "cell_type": "code",
   "execution_count": 8,
   "id": "aef17fab",
   "metadata": {},
   "outputs": [],
   "source": [
    "model.compile(loss='categorical_crossentropy', optimizer = tf.keras.optimizers.RMSprop(learning_rate=0.001), metrics=['accuracy'] ) "
   ]
  },
  {
   "cell_type": "code",
   "execution_count": 9,
   "id": "9e2c41ff",
   "metadata": {},
   "outputs": [
    {
     "name": "stdout",
     "output_type": "stream",
     "text": [
      "Epoch 1/99\n",
      "5/5 [==============================] - 3s 410ms/step - loss: 25.1002 - accuracy: 0.3200\n",
      "Epoch 2/99\n",
      "5/5 [==============================] - 2s 422ms/step - loss: 1.3570 - accuracy: 0.4400\n",
      "Epoch 3/99\n",
      "5/5 [==============================] - 2s 409ms/step - loss: 1.1637 - accuracy: 0.4800\n",
      "Epoch 4/99\n",
      "5/5 [==============================] - 2s 411ms/step - loss: 0.7437 - accuracy: 0.7200\n",
      "Epoch 5/99\n",
      "5/5 [==============================] - 2s 435ms/step - loss: 1.5162 - accuracy: 0.6800\n",
      "Epoch 6/99\n",
      "5/5 [==============================] - 2s 389ms/step - loss: 1.5916 - accuracy: 0.6800\n",
      "Epoch 7/99\n",
      "5/5 [==============================] - 2s 387ms/step - loss: 0.3814 - accuracy: 0.8800\n",
      "Epoch 8/99\n",
      "5/5 [==============================] - 2s 382ms/step - loss: 0.4856 - accuracy: 0.8800\n",
      "Epoch 9/99\n",
      "5/5 [==============================] - 2s 394ms/step - loss: 0.2668 - accuracy: 0.8800\n",
      "Epoch 10/99\n",
      "5/5 [==============================] - 2s 401ms/step - loss: 0.5097 - accuracy: 0.8800\n",
      "Epoch 11/99\n",
      "5/5 [==============================] - 2s 384ms/step - loss: 0.5937 - accuracy: 0.8400\n",
      "Epoch 12/99\n",
      "5/5 [==============================] - 2s 389ms/step - loss: 0.4469 - accuracy: 0.9600\n",
      "Epoch 13/99\n",
      "5/5 [==============================] - 2s 401ms/step - loss: 0.2760 - accuracy: 0.9600\n",
      "Epoch 14/99\n",
      "5/5 [==============================] - 2s 413ms/step - loss: 0.0436 - accuracy: 1.0000\n",
      "Epoch 15/99\n",
      "5/5 [==============================] - 2s 410ms/step - loss: 0.0188 - accuracy: 1.0000\n",
      "Epoch 16/99\n",
      "5/5 [==============================] - 2s 413ms/step - loss: 0.2082 - accuracy: 0.9200\n",
      "Epoch 17/99\n",
      "5/5 [==============================] - 2s 413ms/step - loss: 0.2838 - accuracy: 0.9200\n",
      "Epoch 18/99\n",
      "5/5 [==============================] - 2s 454ms/step - loss: 1.1222 - accuracy: 0.8000\n",
      "Epoch 19/99\n",
      "5/5 [==============================] - 2s 433ms/step - loss: 0.1525 - accuracy: 0.8800\n",
      "Epoch 20/99\n",
      "5/5 [==============================] - 2s 430ms/step - loss: 0.0981 - accuracy: 0.9600\n",
      "Epoch 21/99\n",
      "5/5 [==============================] - 2s 430ms/step - loss: 0.0381 - accuracy: 0.9600\n",
      "Epoch 22/99\n",
      "5/5 [==============================] - 2s 438ms/step - loss: 0.0353 - accuracy: 0.9600\n",
      "Epoch 23/99\n",
      "5/5 [==============================] - 2s 406ms/step - loss: 0.1980 - accuracy: 0.8800\n",
      "Epoch 24/99\n",
      "5/5 [==============================] - 2s 410ms/step - loss: 0.1216 - accuracy: 0.9600\n",
      "Epoch 25/99\n",
      "5/5 [==============================] - 2s 423ms/step - loss: 0.0201 - accuracy: 1.0000\n",
      "Epoch 26/99\n",
      "5/5 [==============================] - 2s 402ms/step - loss: 0.0036 - accuracy: 1.0000\n",
      "Epoch 27/99\n",
      "5/5 [==============================] - 2s 431ms/step - loss: 7.5874e-04 - accuracy: 1.0000\n",
      "Epoch 28/99\n",
      "5/5 [==============================] - 2s 432ms/step - loss: 0.0111 - accuracy: 1.0000\n",
      "Epoch 29/99\n",
      "5/5 [==============================] - 2s 422ms/step - loss: 1.5764 - accuracy: 0.8000\n",
      "Epoch 30/99\n",
      "5/5 [==============================] - 2s 426ms/step - loss: 0.0153 - accuracy: 1.0000\n",
      "Epoch 31/99\n",
      "5/5 [==============================] - 2s 426ms/step - loss: 0.0027 - accuracy: 1.0000\n",
      "Epoch 32/99\n",
      "5/5 [==============================] - 2s 402ms/step - loss: 0.1465 - accuracy: 0.9600\n",
      "Epoch 33/99\n",
      "5/5 [==============================] - 2s 403ms/step - loss: 0.0089 - accuracy: 1.0000\n",
      "Epoch 34/99\n",
      "5/5 [==============================] - 2s 404ms/step - loss: 0.0096 - accuracy: 1.0000\n",
      "Epoch 35/99\n",
      "5/5 [==============================] - 2s 419ms/step - loss: 2.7378e-04 - accuracy: 1.0000\n",
      "Epoch 36/99\n",
      "5/5 [==============================] - 2s 382ms/step - loss: 0.0122 - accuracy: 1.0000\n",
      "Epoch 37/99\n",
      "5/5 [==============================] - 2s 388ms/step - loss: 0.0079 - accuracy: 1.0000\n",
      "Epoch 38/99\n",
      "5/5 [==============================] - 2s 406ms/step - loss: 2.1757e-04 - accuracy: 1.0000\n",
      "Epoch 39/99\n",
      "5/5 [==============================] - 2s 398ms/step - loss: 12.3767 - accuracy: 0.5600\n",
      "Epoch 40/99\n",
      "5/5 [==============================] - 2s 399ms/step - loss: 0.0291 - accuracy: 1.0000\n",
      "Epoch 41/99\n",
      "5/5 [==============================] - 2s 394ms/step - loss: 0.0012 - accuracy: 1.0000\n",
      "Epoch 42/99\n",
      "5/5 [==============================] - 2s 393ms/step - loss: 0.0019 - accuracy: 1.0000\n",
      "Epoch 43/99\n",
      "5/5 [==============================] - 2s 400ms/step - loss: 2.3713e-04 - accuracy: 1.0000\n",
      "Epoch 44/99\n",
      "5/5 [==============================] - 2s 392ms/step - loss: 1.3363e-04 - accuracy: 1.0000\n",
      "Epoch 45/99\n",
      "5/5 [==============================] - 2s 386ms/step - loss: 1.5619e-04 - accuracy: 1.0000\n",
      "Epoch 46/99\n",
      "5/5 [==============================] - 2s 399ms/step - loss: 8.0442e-05 - accuracy: 1.0000\n",
      "Epoch 47/99\n",
      "5/5 [==============================] - 2s 397ms/step - loss: 3.0904e-05 - accuracy: 1.0000\n",
      "Epoch 48/99\n",
      "5/5 [==============================] - 2s 390ms/step - loss: 7.5785e-04 - accuracy: 1.0000\n",
      "Epoch 49/99\n",
      "5/5 [==============================] - 2s 393ms/step - loss: 2.0140e-05 - accuracy: 1.0000\n",
      "Epoch 50/99\n",
      "5/5 [==============================] - 2s 391ms/step - loss: 0.0057 - accuracy: 1.0000\n",
      "Epoch 51/99\n",
      "5/5 [==============================] - 2s 448ms/step - loss: 1.4453e-04 - accuracy: 1.0000\n",
      "Epoch 52/99\n",
      "5/5 [==============================] - 2s 430ms/step - loss: 1.3470e-05 - accuracy: 1.0000\n",
      "Epoch 53/99\n",
      "5/5 [==============================] - 2s 413ms/step - loss: 0.0374 - accuracy: 0.9600\n",
      "Epoch 54/99\n",
      "5/5 [==============================] - 2s 437ms/step - loss: 0.8509 - accuracy: 0.8400\n",
      "Epoch 55/99\n",
      "5/5 [==============================] - 2s 409ms/step - loss: 2.1017 - accuracy: 0.8400\n",
      "Epoch 56/99\n",
      "5/5 [==============================] - 2s 425ms/step - loss: 0.0076 - accuracy: 1.0000\n",
      "Epoch 57/99\n",
      "5/5 [==============================] - 2s 441ms/step - loss: 0.1942 - accuracy: 0.9600\n",
      "Epoch 58/99\n",
      "5/5 [==============================] - 2s 409ms/step - loss: 1.6456e-04 - accuracy: 1.0000\n",
      "Epoch 59/99\n",
      "5/5 [==============================] - 2s 394ms/step - loss: 2.0518e-04 - accuracy: 1.0000\n",
      "Epoch 60/99\n",
      "5/5 [==============================] - 2s 412ms/step - loss: 0.0018 - accuracy: 1.0000\n",
      "Epoch 61/99\n",
      "5/5 [==============================] - 2s 397ms/step - loss: 1.9363e-05 - accuracy: 1.0000\n",
      "Epoch 62/99\n",
      "5/5 [==============================] - 2s 409ms/step - loss: 5.9746e-06 - accuracy: 1.0000\n",
      "Epoch 63/99\n",
      "5/5 [==============================] - 2s 422ms/step - loss: 2.9698e-05 - accuracy: 1.0000\n",
      "Epoch 64/99\n",
      "5/5 [==============================] - 2s 404ms/step - loss: 4.9555e-04 - accuracy: 1.0000\n",
      "Epoch 65/99\n",
      "5/5 [==============================] - 2s 411ms/step - loss: 4.7732e-05 - accuracy: 1.0000\n",
      "Epoch 66/99\n",
      "5/5 [==============================] - 2s 444ms/step - loss: 9.2029e-07 - accuracy: 1.0000\n",
      "Epoch 67/99\n",
      "5/5 [==============================] - 2s 447ms/step - loss: 5.4263e-06 - accuracy: 1.0000\n",
      "Epoch 68/99\n",
      "5/5 [==============================] - 2s 465ms/step - loss: 2.6880e-04 - accuracy: 1.0000\n",
      "Epoch 69/99\n",
      "5/5 [==============================] - 2s 414ms/step - loss: 8.8214e-07 - accuracy: 1.0000\n",
      "Epoch 70/99\n",
      "5/5 [==============================] - 2s 393ms/step - loss: 3.7585e-05 - accuracy: 1.0000\n",
      "Epoch 71/99\n",
      "5/5 [==============================] - 2s 405ms/step - loss: 2.5921e-04 - accuracy: 1.0000\n",
      "Epoch 72/99\n",
      "5/5 [==============================] - 2s 405ms/step - loss: 4.1245e-06 - accuracy: 1.0000\n",
      "Epoch 73/99\n",
      "5/5 [==============================] - 2s 389ms/step - loss: 9.7600e-06 - accuracy: 1.0000\n",
      "Epoch 74/99\n",
      "5/5 [==============================] - 2s 392ms/step - loss: 5.7505e-06 - accuracy: 1.0000\n",
      "Epoch 75/99\n",
      "5/5 [==============================] - 2s 409ms/step - loss: 1.2255e-06 - accuracy: 1.0000\n",
      "Epoch 76/99\n",
      "5/5 [==============================] - 2s 392ms/step - loss: 4.4305e-05 - accuracy: 1.0000\n",
      "Epoch 77/99\n",
      "5/5 [==============================] - 2s 393ms/step - loss: 1.8978e-06 - accuracy: 1.0000\n",
      "Epoch 78/99\n",
      "5/5 [==============================] - 2s 388ms/step - loss: 9.4890e-07 - accuracy: 1.0000\n",
      "Epoch 79/99\n",
      "5/5 [==============================] - 2s 400ms/step - loss: 5.6267e-07 - accuracy: 1.0000\n",
      "Epoch 80/99\n",
      "5/5 [==============================] - 2s 407ms/step - loss: 8.1062e-07 - accuracy: 1.0000\n",
      "Epoch 81/99\n",
      "5/5 [==============================] - 2s 411ms/step - loss: 7.2956e-07 - accuracy: 1.0000\n",
      "Epoch 82/99\n"
     ]
    },
    {
     "name": "stdout",
     "output_type": "stream",
     "text": [
      "5/5 [==============================] - 2s 395ms/step - loss: 2.5749e-07 - accuracy: 1.0000\n",
      "Epoch 83/99\n",
      "5/5 [==============================] - 2s 424ms/step - loss: 4.6730e-07 - accuracy: 1.0000\n",
      "Epoch 84/99\n",
      "5/5 [==============================] - 2s 410ms/step - loss: 3.1471e-07 - accuracy: 1.0000\n",
      "Epoch 85/99\n",
      "5/5 [==============================] - 2s 429ms/step - loss: 1.7166e-07 - accuracy: 1.0000\n",
      "Epoch 86/99\n",
      "5/5 [==============================] - 2s 418ms/step - loss: 1.7643e-07 - accuracy: 1.0000\n",
      "Epoch 87/99\n",
      "5/5 [==============================] - 2s 405ms/step - loss: 7.6294e-08 - accuracy: 1.0000\n",
      "Epoch 88/99\n",
      "5/5 [==============================] - 2s 400ms/step - loss: 1.5259e-07 - accuracy: 1.0000\n",
      "Epoch 89/99\n",
      "5/5 [==============================] - 2s 408ms/step - loss: 1.1921e-07 - accuracy: 1.0000\n",
      "Epoch 90/99\n",
      "5/5 [==============================] - 2s 410ms/step - loss: 1.6212e-07 - accuracy: 1.0000\n",
      "Epoch 91/99\n",
      "5/5 [==============================] - 2s 402ms/step - loss: 4.2915e-08 - accuracy: 1.0000\n",
      "Epoch 92/99\n",
      "5/5 [==============================] - 2s 417ms/step - loss: 4.7684e-09 - accuracy: 1.0000\n",
      "Epoch 93/99\n",
      "5/5 [==============================] - 2s 428ms/step - loss: 8.4399e-07 - accuracy: 1.0000\n",
      "Epoch 94/99\n",
      "5/5 [==============================] - 2s 419ms/step - loss: 4.7684e-08 - accuracy: 1.0000\n",
      "Epoch 95/99\n",
      "5/5 [==============================] - 2s 444ms/step - loss: 1.9073e-08 - accuracy: 1.0000\n",
      "Epoch 96/99\n",
      "5/5 [==============================] - 2s 421ms/step - loss: 1.9073e-08 - accuracy: 1.0000\n",
      "Epoch 97/99\n",
      "5/5 [==============================] - 2s 428ms/step - loss: 0.0000e+00 - accuracy: 1.0000\n",
      "Epoch 98/99\n",
      "5/5 [==============================] - 2s 430ms/step - loss: 3.8147e-07 - accuracy: 1.0000\n",
      "Epoch 99/99\n",
      "5/5 [==============================] - 2s 401ms/step - loss: 4.1008e-07 - accuracy: 1.0000\n"
     ]
    }
   ],
   "source": [
    "model_fit=model.fit(train_dataset, steps_per_epoch=5, epochs=99, validation_data=validation_dataset)"
   ]
  },
  {
   "cell_type": "code",
   "execution_count": 10,
   "id": "b3cbd4c7",
   "metadata": {},
   "outputs": [
    {
     "data": {
      "image/png": "[encoded data removed]",
      "text/plain": [
       "<Figure size 432x288 with 1 Axes>"
      ]
     },
     "metadata": {
      "needs_background": "light"
     },
     "output_type": "display_data"
    },
    {
     "data": {
      "image/png": "[encoded data removed]",
      "text/plain": [
       "<Figure size 432x288 with 1 Axes>"
      ]
     },
     "metadata": {
      "needs_background": "light"
     },
     "output_type": "display_data"
    }
   ],
   "source": [
    "plt.plot(model_fit.history['accuracy'])\n",
    "#plt.plot(model_fit.history['val_accuracy'])\n",
    "plt.title('model accuracy')\n",
    "plt.ylabel('accuracy')\n",
    "plt.xlabel('epoch')\n",
    "plt.legend(['train', 'val'], loc='upper left')\n",
    "plt.show()\n",
    "\n",
    "plt.plot(model_fit.history['loss'])\n",
    "#plt.plot(model_fit.history['val_loss'])\n",
    "plt.title('model loss')\n",
    "plt.ylabel('loss')\n",
    "plt.xlabel('epoch')\n",
    "plt.legend(['train', 'val'], loc='upper left')\n",
    "plt.show()"
   ]
  },
  {
   "cell_type": "code",
   "execution_count": 11,
   "id": "70c9b292",
   "metadata": {},
   "outputs": [
    {
     "name": "stdout",
     "output_type": "stream",
     "text": [
      "accuracy: 100.00%\n"
     ]
    }
   ],
   "source": [
    "scores = model.evaluate(train_dataset, verbose=0)\n",
    "print(\"%s: %.2f%%\" % (model.metrics_names[1], scores[1]*100))"
   ]
  },
  {
   "cell_type": "code",
   "execution_count": 12,
   "id": "b16ac0fe",
   "metadata": {
    "scrolled": true
   },
   "outputs": [
    {
     "name": "stdout",
     "output_type": "stream",
     "text": [
      "Model: \"sequential\"\n",
      "_________________________________________________________________\n",
      " Layer (type)                Output Shape              Param #   \n",
      "=================================================================\n",
      " conv2d (Conv2D)             (None, 298, 298, 16)      448       \n",
      "                                                                 \n",
      " max_pooling2d (MaxPooling2D  (None, 149, 149, 16)     0         \n",
      " )                                                               \n",
      "                                                                 \n",
      " conv2d_1 (Conv2D)           (None, 147, 147, 32)      4640      \n",
      "                                                                 \n",
      " max_pooling2d_1 (MaxPooling  (None, 73, 73, 32)       0         \n",
      " 2D)                                                             \n",
      "                                                                 \n",
      " conv2d_2 (Conv2D)           (None, 71, 71, 64)        18496     \n",
      "                                                                 \n",
      " max_pooling2d_2 (MaxPooling  (None, 35, 35, 64)       0         \n",
      " 2D)                                                             \n",
      "                                                                 \n",
      " flatten (Flatten)           (None, 78400)             0         \n",
      "                                                                 \n",
      " dense (Dense)               (None, 512)               40141312  \n",
      "                                                                 \n",
      " dense_1 (Dense)             (None, 3)                 1539      \n",
      "                                                                 \n",
      "=================================================================\n",
      "Total params: 40,166,435\n",
      "Trainable params: 40,166,435\n",
      "Non-trainable params: 0\n",
      "_________________________________________________________________\n"
     ]
    }
   ],
   "source": [
    "model.summary()"
   ]
  },
  {
   "cell_type": "code",
   "execution_count": 13,
   "id": "4911c154",
   "metadata": {},
   "outputs": [],
   "source": [
    "# save model and architecture to single file\n",
    "model.save(\"advancedModel1.h5\")"
   ]
  },
  {
   "cell_type": "code",
   "execution_count": 14,
   "id": "9cad6814",
   "metadata": {},
   "outputs": [],
   "source": [
    "model.save_weights(\"advancedModel_weights1.h5\")"
   ]
  },
  {
   "cell_type": "code",
   "execution_count": null,
   "id": "592ae4f7",
   "metadata": {},
   "outputs": [],
   "source": []
  }
 ],
 "metadata": {
  "kernelspec": {
   "display_name": "Python 3 (ipykernel)",
   "language": "python",
   "name": "python3"
  },
  "language_info": {
   "codemirror_mode": {
    "name": "ipython",
    "version": 3
   },
   "file_extension": ".py",
   "mimetype": "text/x-python",
   "name": "python",
   "nbconvert_exporter": "python",
   "pygments_lexer": "ipython3",
   "version": "3.9.7"
  }
 },
 "nbformat": 4,
 "nbformat_minor": 5
}
